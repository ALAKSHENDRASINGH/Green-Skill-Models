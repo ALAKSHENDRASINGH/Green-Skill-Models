{
 "cells": [
  {
   "cell_type": "code",
   "execution_count": 10,
   "id": "b3903221-0e00-4688-a50a-484f32ca4247",
   "metadata": {},
   "outputs": [
    {
     "name": "stdout",
     "output_type": "stream",
     "text": [
      "City:  City A\n"
     ]
    }
   ],
   "source": [
    "# Create a string variable\n",
    "city_name = 'City A'\n",
    "\n",
    "# Print the value of the string variable\n",
    "print(f\"City: \",city_name)"
   ]
  },
  {
   "cell_type": "code",
   "execution_count": 20,
   "id": "9b750677-32c2-49a3-98d7-1a654b940e15",
   "metadata": {},
   "outputs": [
    {
     "name": "stdin",
     "output_type": "stream",
     "text": [
      "Enter temp:  25\n"
     ]
    },
    {
     "name": "stdout",
     "output_type": "stream",
     "text": [
      "25°C is equal to 77.0°F\n"
     ]
    }
   ],
   "source": [
    "def celsius_to_fahrenheit(celsius):\n",
    "    return (celsius * 9/5) + 32\n",
    "\n",
    "\n",
    "celsius = int(input('Enter temp: '))\n",
    "fahrenheit = celsius_to_fahrenheit(celsius)\n",
    "print(f\"{celsius}°C is equal to {fahrenheit}°F\")\n"
   ]
  },
  {
   "cell_type": "code",
   "execution_count": 22,
   "id": "dbd930e4-97ca-4077-9223-166db0fab09e",
   "metadata": {},
   "outputs": [
    {
     "name": "stdout",
     "output_type": "stream",
     "text": [
      "Carbon footprint:  500.75\n"
     ]
    }
   ],
   "source": [
    "# Create a float var for carbon footprint\n",
    "carbon_footprint = 500.75 # Kg CO2\n",
    "print(f'Carbon footprint: ', carbon_footprint)"
   ]
  },
  {
   "cell_type": "code",
   "execution_count": 28,
   "id": "587dbab8-e3e0-414a-8dde-94bb2c3c4729",
   "metadata": {},
   "outputs": [
    {
     "name": "stdout",
     "output_type": "stream",
     "text": [
      "Is the city sustainable? \n",
      "Ans:  False\n"
     ]
    }
   ],
   "source": [
    "is_sustainable = carbon_footprint < 400\n",
    "\n",
    "print(f'Is the city sustainable? \\nAns: ', is_sustainable)"
   ]
  },
  {
   "cell_type": "code",
   "execution_count": 64,
   "id": "0728fef8-1ed9-432c-8f8d-7a921b1a46bb",
   "metadata": {},
   "outputs": [
    {
     "name": "stdin",
     "output_type": "stream",
     "text": [
      "Enter a number:  5\n"
     ]
    },
    {
     "name": "stdout",
     "output_type": "stream",
     "text": [
      "5 is an integer.\n"
     ]
    }
   ],
   "source": [
    "num = input(\"Enter a number: \")\n",
    "\n",
    "try:\n",
    "    int(num)\n",
    "    if type(int(num)) is int:\n",
    "        print(f\"{num} is an integer.\")\n",
    "except ValueError:\n",
    "    print(f\"{num} is not an integer.\")"
   ]
  },
  {
   "cell_type": "code",
   "execution_count": 66,
   "id": "25deac88-a3de-4886-bd88-1c52c7552b76",
   "metadata": {},
   "outputs": [
    {
     "name": "stdout",
     "output_type": "stream",
     "text": [
      "1 is in the list!\n"
     ]
    }
   ],
   "source": [
    "num = [1,2,3,4,5]\n",
    "\n",
    "if 1 in num:\n",
    "    print(\"1 is in the list!\")\n",
    "else:\n",
    "    print(\"1 is not in the list.\")\n"
   ]
  },
  {
   "cell_type": "code",
   "execution_count": 68,
   "id": "4c6fdb8e-e6be-49de-927f-5142a1aa21dc",
   "metadata": {},
   "outputs": [
    {
     "name": "stdin",
     "output_type": "stream",
     "text": [
      "Choose operation (+, -, *, /):  *\n",
      "Enter num1:  5\n",
      "Enter num2:  2\n"
     ]
    },
    {
     "name": "stdout",
     "output_type": "stream",
     "text": [
      "Result:  10.0\n"
     ]
    }
   ],
   "source": [
    "op = input('Choose operation (+, -, *, /): ')\n",
    "n1 = float(input('Enter num1: '))\n",
    "n2 = float(input('Enter num2: '))\n",
    "result = 0\n",
    "if n2 == 0:\n",
    "    print('Invalid')\n",
    "if op == '+':\n",
    "    result = n1 + n2\n",
    "elif op == '-':\n",
    "    result = n1 - n2\n",
    "elif op == '*':\n",
    "    result = n1 * n2\n",
    "elif op == '/':\n",
    "    result = n1 / n2\n",
    "else:\n",
    "    print('Invalid operation')\n",
    "\n",
    "print(f'Result: ',result)\n"
   ]
  },
  {
   "cell_type": "code",
   "execution_count": 60,
   "id": "a7423b6c-4893-4c67-85ed-c5d7e9e0df4e",
   "metadata": {},
   "outputs": [
    {
     "name": "stdout",
     "output_type": "stream",
     "text": [
      "Cities with high temperature (> 26°C):\n",
      "City B - 30°C\n",
      "City E - 28°C\n"
     ]
    }
   ],
   "source": [
    "# Sample data set\n",
    "climate_data = [\n",
    "    {\"city\": \"City A\", \"temperature\": 25, \"carbon_footprint\": 500},\n",
    "    {\"city\": \"City B\", \"temperature\": 30, \"carbon_footprint\": 350},\n",
    "    {\"city\": \"City C\", \"temperature\": 22, \"carbon_footprint\": 600},\n",
    "    {\"city\": \"City D\", \"temperature\": 15, \"carbon_footprint\": 200},\n",
    "    {\"city\": \"City E\", \"temperature\": 28, \"carbon_footprint\": 450},\n",
    "]\n",
    "\n",
    "high_temp_threshold = 26\n",
    "\n",
    "high_temp_cities = [city for city in climate_data if city['temperature'] > high_temp_threshold]\n",
    "\n",
    "print('Cities with high temperature (> 26°C):')\n",
    "for city in high_temp_cities:\n",
    "    print(f\"{city['city']} - {city['temperature']}°C\")\n"
   ]
  },
  {
   "cell_type": "code",
   "execution_count": 62,
   "id": "50dc3f70-3a54-4b16-930d-c1b351957d18",
   "metadata": {},
   "outputs": [
    {
     "name": "stdout",
     "output_type": "stream",
     "text": [
      "Average carbon footprint: 420.0\n"
     ]
    }
   ],
   "source": [
    "# Calculate the average carbon footprint\n",
    "total_carbon_footprint = sum(city[\"carbon_footprint\"] for city in climate_data)\n",
    "average_carbon_footprint = total_carbon_footprint / len(climate_data)\n",
    "\n",
    "print(f\"Average carbon footprint: {average_carbon_footprint}\")\n"
   ]
  },
  {
   "cell_type": "code",
   "execution_count": 70,
   "id": "762f461b-88c0-4844-8d9a-67cfd6ca8228",
   "metadata": {},
   "outputs": [
    {
     "name": "stdout",
     "output_type": "stream",
     "text": [
      "City with the highest carbon footprint: City C with 600 units\n"
     ]
    }
   ],
   "source": [
    "# Find the city with the highest carbon footprint\n",
    "highest_carbon_city = max(climate_data, key=lambda city: city[\"carbon_footprint\"])\n",
    "\n",
    "print(f\"City with the highest carbon footprint: {highest_carbon_city['city']} with {highest_carbon_city['carbon_footprint']} units\")\n"
   ]
  },
  {
   "cell_type": "code",
   "execution_count": 72,
   "id": "8af027f1-3589-4cbf-b98c-e711cd538c94",
   "metadata": {},
   "outputs": [
    {
     "name": "stdout",
     "output_type": "stream",
     "text": [
      "Carbon footprint: 475.0 kg CO2\n"
     ]
    }
   ],
   "source": [
    "#Example usage:\n",
    "# Function to calculate carbon footprint\n",
    "def calculate_carbon_footprint(energy_consumption, emission_factor):\n",
    "    return energy_consumption * emission_factor\n",
    "\n",
    "# Example usage\n",
    "energy_consumption = 1000  # in kWh\n",
    "emission_factor = 0.475  # in kg CO2 per kWh\n",
    "carbon_footprint = calculate_carbon_footprint(energy_consumption, emission_factor)\n",
    "print(f\"Carbon footprint: {carbon_footprint} kg CO2\")\n",
    "\n"
   ]
  },
  {
   "cell_type": "code",
   "execution_count": 82,
   "id": "917ddcde-c31a-40f4-b2b3-c5d7b76ba32f",
   "metadata": {},
   "outputs": [
    {
     "name": "stdout",
     "output_type": "stream",
     "text": [
      "Sustainable cities:\n",
      "City B - 350 units\n",
      "City D - 200 units\n",
      "\n",
      "Unsustainable cities:\n",
      "City A - 500 units\n",
      "City C - 600 units\n",
      "City E - 450 units\n"
     ]
    }
   ],
   "source": [
    "# Define the sustainability threshold\n",
    "sustainability_threshold = 400\n",
    "\n",
    "# Filter the cities based on the carbon footprint\n",
    "sustainable_cities = [city for city in climate_data if city[\"carbon_footprint\"] < sustainability_threshold]\n",
    "unsustainable_cities = [city for city in climate_data if city[\"carbon_footprint\"] >= sustainability_threshold]\n",
    "\n",
    "print(\"Sustainable cities:\")\n",
    "for city in sustainable_cities:\n",
    "    print(f\"{city['city']} - {city['carbon_footprint']} units\")\n",
    "\n",
    "print(\"\\nUnsustainable cities:\")\n",
    "for city in unsustainable_cities:\n",
    "    print(f\"{city['city']} - {city['carbon_footprint']} units\")\n"
   ]
  },
  {
   "cell_type": "code",
   "execution_count": 10,
   "id": "f6e33856-3fea-4c22-8a72-db12fd9ed393",
   "metadata": {},
   "outputs": [],
   "source": [
    "#------------------------DAY 2-----------------------------------------------------------------------------------"
   ]
  },
  {
   "cell_type": "code",
   "execution_count": 12,
   "id": "b287149b-f9b9-4d9b-821a-26baa9c996a9",
   "metadata": {},
   "outputs": [
    {
     "name": "stdout",
     "output_type": "stream",
     "text": [
      "True\n"
     ]
    }
   ],
   "source": [
    "is_leap_year = lambda year: year % 4 == 0 and (year % 100 != 0 or year % 400 == 0)\n",
    "year = 2024\n",
    "print(is_leap_year(year))  \n"
   ]
  },
  {
   "cell_type": "code",
   "execution_count": 36,
   "id": "e557dc26-292a-4c3a-b9e9-e15e8b08998c",
   "metadata": {},
   "outputs": [],
   "source": [
    "import pandas as pd"
   ]
  },
  {
   "cell_type": "code",
   "execution_count": 42,
   "id": "5940662d-28d4-4b0f-8c10-b1620c41db01",
   "metadata": {},
   "outputs": [],
   "source": [
    "import pandas as pd\n",
    "\n",
    "renewable_sources = ['Solar', 'Wind', 'Hydropower', 'Geothermal', 'Biomass']\n",
    "data = {\n",
    "    \"Project\": [\"Solar Farm A\", \"Wind Turbine X\", \"Hydropower Y\", \"Solar Roof Z\", \"Geothermal Plant P\"],\n",
    "    \"Technology\": [\"Solar\", \"Wind\", \"Hydropower\", \"Solar\", \"Geothermal\"],\n",
    "    \"Capacity (MW)\": [150, 300, 200, 50, 100],  # Megawatts\n",
    "    \"Cost (Million $)\": [200, 400, 350, 100, 250],  # Project cost\n",
    "    \"Location\": [\"California\", \"Texas\", \"Washington\", \"Nevada\", \"Idaho\"],\n",
    "    \"Completion Year\": [2023, 2024, 2022, 2025, 2023]\n",
    "}\n",
    "\n"
   ]
  },
  {
   "cell_type": "code",
   "execution_count": 32,
   "id": "25f817f3-5cfd-4805-930a-12eee35d1455",
   "metadata": {},
   "outputs": [
    {
     "name": "stdout",
     "output_type": "stream",
     "text": [
      "Renewable Energy Sources:\n",
      "0         Solar\n",
      "1          Wind\n",
      "2    Hydropower\n",
      "3    Geothermal\n",
      "4       Biomass\n",
      "dtype: object\n"
     ]
    }
   ],
   "source": [
    "renewable_series = pd.Series(renewable_sources)\n",
    "\n",
    "print(\"Renewable Energy Sources:\")\n",
    "print(renewable_series)"
   ]
  },
  {
   "cell_type": "code",
   "execution_count": 46,
   "id": "309b8df8-bb80-4c32-8cf8-f30a21b173f9",
   "metadata": {},
   "outputs": [
    {
     "data": {
      "text/html": [
       "<div>\n",
       "<style scoped>\n",
       "    .dataframe tbody tr th:only-of-type {\n",
       "        vertical-align: middle;\n",
       "    }\n",
       "\n",
       "    .dataframe tbody tr th {\n",
       "        vertical-align: top;\n",
       "    }\n",
       "\n",
       "    .dataframe thead th {\n",
       "        text-align: right;\n",
       "    }\n",
       "</style>\n",
       "<table border=\"1\" class=\"dataframe\">\n",
       "  <thead>\n",
       "    <tr style=\"text-align: right;\">\n",
       "      <th></th>\n",
       "      <th>Project</th>\n",
       "      <th>Technology</th>\n",
       "      <th>Capacity (MW)</th>\n",
       "      <th>Cost (Million $)</th>\n",
       "      <th>Location</th>\n",
       "      <th>Completion Year</th>\n",
       "    </tr>\n",
       "  </thead>\n",
       "  <tbody>\n",
       "    <tr>\n",
       "      <th>0</th>\n",
       "      <td>Solar Farm A</td>\n",
       "      <td>Solar</td>\n",
       "      <td>150</td>\n",
       "      <td>200</td>\n",
       "      <td>California</td>\n",
       "      <td>2023</td>\n",
       "    </tr>\n",
       "    <tr>\n",
       "      <th>1</th>\n",
       "      <td>Wind Turbine X</td>\n",
       "      <td>Wind</td>\n",
       "      <td>300</td>\n",
       "      <td>400</td>\n",
       "      <td>Texas</td>\n",
       "      <td>2024</td>\n",
       "    </tr>\n",
       "    <tr>\n",
       "      <th>2</th>\n",
       "      <td>Hydropower Y</td>\n",
       "      <td>Hydropower</td>\n",
       "      <td>200</td>\n",
       "      <td>350</td>\n",
       "      <td>Washington</td>\n",
       "      <td>2022</td>\n",
       "    </tr>\n",
       "    <tr>\n",
       "      <th>3</th>\n",
       "      <td>Solar Roof Z</td>\n",
       "      <td>Solar</td>\n",
       "      <td>50</td>\n",
       "      <td>100</td>\n",
       "      <td>Nevada</td>\n",
       "      <td>2025</td>\n",
       "    </tr>\n",
       "    <tr>\n",
       "      <th>4</th>\n",
       "      <td>Geothermal Plant P</td>\n",
       "      <td>Geothermal</td>\n",
       "      <td>100</td>\n",
       "      <td>250</td>\n",
       "      <td>Idaho</td>\n",
       "      <td>2023</td>\n",
       "    </tr>\n",
       "  </tbody>\n",
       "</table>\n",
       "</div>"
      ],
      "text/plain": [
       "              Project  Technology  Capacity (MW)  Cost (Million $)  \\\n",
       "0        Solar Farm A       Solar            150               200   \n",
       "1      Wind Turbine X        Wind            300               400   \n",
       "2        Hydropower Y  Hydropower            200               350   \n",
       "3        Solar Roof Z       Solar             50               100   \n",
       "4  Geothermal Plant P  Geothermal            100               250   \n",
       "\n",
       "     Location  Completion Year  \n",
       "0  California             2023  \n",
       "1       Texas             2024  \n",
       "2  Washington             2022  \n",
       "3      Nevada             2025  \n",
       "4       Idaho             2023  "
      ]
     },
     "execution_count": 46,
     "metadata": {},
     "output_type": "execute_result"
    }
   ],
   "source": [
    "projects_df = pd.DataFrame(data)\n",
    "projects_df.head()\n"
   ]
  },
  {
   "cell_type": "code",
   "execution_count": 48,
   "id": "c83723e3-617f-43a8-82c6-b277895068e4",
   "metadata": {},
   "outputs": [
    {
     "data": {
      "text/html": [
       "<div>\n",
       "<style scoped>\n",
       "    .dataframe tbody tr th:only-of-type {\n",
       "        vertical-align: middle;\n",
       "    }\n",
       "\n",
       "    .dataframe tbody tr th {\n",
       "        vertical-align: top;\n",
       "    }\n",
       "\n",
       "    .dataframe thead th {\n",
       "        text-align: right;\n",
       "    }\n",
       "</style>\n",
       "<table border=\"1\" class=\"dataframe\">\n",
       "  <thead>\n",
       "    <tr style=\"text-align: right;\">\n",
       "      <th></th>\n",
       "      <th>Project</th>\n",
       "      <th>Technology</th>\n",
       "      <th>Capacity (MW)</th>\n",
       "      <th>Cost (Million $)</th>\n",
       "      <th>Location</th>\n",
       "      <th>Completion Year</th>\n",
       "    </tr>\n",
       "  </thead>\n",
       "  <tbody>\n",
       "    <tr>\n",
       "      <th>0</th>\n",
       "      <td>Solar Farm A</td>\n",
       "      <td>Solar</td>\n",
       "      <td>150</td>\n",
       "      <td>200</td>\n",
       "      <td>California</td>\n",
       "      <td>2023</td>\n",
       "    </tr>\n",
       "    <tr>\n",
       "      <th>1</th>\n",
       "      <td>Wind Turbine X</td>\n",
       "      <td>Wind</td>\n",
       "      <td>300</td>\n",
       "      <td>400</td>\n",
       "      <td>Texas</td>\n",
       "      <td>2024</td>\n",
       "    </tr>\n",
       "    <tr>\n",
       "      <th>2</th>\n",
       "      <td>Hydropower Y</td>\n",
       "      <td>Hydropower</td>\n",
       "      <td>200</td>\n",
       "      <td>350</td>\n",
       "      <td>Washington</td>\n",
       "      <td>2022</td>\n",
       "    </tr>\n",
       "    <tr>\n",
       "      <th>3</th>\n",
       "      <td>Solar Roof Z</td>\n",
       "      <td>Solar</td>\n",
       "      <td>50</td>\n",
       "      <td>100</td>\n",
       "      <td>Nevada</td>\n",
       "      <td>2025</td>\n",
       "    </tr>\n",
       "    <tr>\n",
       "      <th>4</th>\n",
       "      <td>Geothermal Plant P</td>\n",
       "      <td>Geothermal</td>\n",
       "      <td>100</td>\n",
       "      <td>250</td>\n",
       "      <td>Idaho</td>\n",
       "      <td>2023</td>\n",
       "    </tr>\n",
       "  </tbody>\n",
       "</table>\n",
       "</div>"
      ],
      "text/plain": [
       "              Project  Technology  Capacity (MW)  Cost (Million $)  \\\n",
       "0        Solar Farm A       Solar            150               200   \n",
       "1      Wind Turbine X        Wind            300               400   \n",
       "2        Hydropower Y  Hydropower            200               350   \n",
       "3        Solar Roof Z       Solar             50               100   \n",
       "4  Geothermal Plant P  Geothermal            100               250   \n",
       "\n",
       "     Location  Completion Year  \n",
       "0  California             2023  \n",
       "1       Texas             2024  \n",
       "2  Washington             2022  \n",
       "3      Nevada             2025  \n",
       "4       Idaho             2023  "
      ]
     },
     "execution_count": 48,
     "metadata": {},
     "output_type": "execute_result"
    }
   ],
   "source": [
    "projects_df.tail()"
   ]
  },
  {
   "cell_type": "code",
   "execution_count": 58,
   "id": "1c1e5691-a4ec-4954-b90f-972da4a86631",
   "metadata": {},
   "outputs": [
    {
     "data": {
      "text/html": [
       "<div>\n",
       "<style scoped>\n",
       "    .dataframe tbody tr th:only-of-type {\n",
       "        vertical-align: middle;\n",
       "    }\n",
       "\n",
       "    .dataframe tbody tr th {\n",
       "        vertical-align: top;\n",
       "    }\n",
       "\n",
       "    .dataframe thead th {\n",
       "        text-align: right;\n",
       "    }\n",
       "</style>\n",
       "<table border=\"1\" class=\"dataframe\">\n",
       "  <thead>\n",
       "    <tr style=\"text-align: right;\">\n",
       "      <th></th>\n",
       "      <th>Project</th>\n",
       "      <th>Technology</th>\n",
       "      <th>Capacity (MW)</th>\n",
       "      <th>Cost (Million $)</th>\n",
       "      <th>Location</th>\n",
       "      <th>Completion Year</th>\n",
       "    </tr>\n",
       "  </thead>\n",
       "  <tbody>\n",
       "    <tr>\n",
       "      <th>1</th>\n",
       "      <td>Wind Turbine X</td>\n",
       "      <td>Wind</td>\n",
       "      <td>300</td>\n",
       "      <td>400</td>\n",
       "      <td>Texas</td>\n",
       "      <td>2024</td>\n",
       "    </tr>\n",
       "    <tr>\n",
       "      <th>2</th>\n",
       "      <td>Hydropower Y</td>\n",
       "      <td>Hydropower</td>\n",
       "      <td>200</td>\n",
       "      <td>350</td>\n",
       "      <td>Washington</td>\n",
       "      <td>2022</td>\n",
       "    </tr>\n",
       "  </tbody>\n",
       "</table>\n",
       "</div>"
      ],
      "text/plain": [
       "          Project  Technology  Capacity (MW)  Cost (Million $)    Location  \\\n",
       "1  Wind Turbine X        Wind            300               400       Texas   \n",
       "2    Hydropower Y  Hydropower            200               350  Washington   \n",
       "\n",
       "   Completion Year  \n",
       "1             2024  \n",
       "2             2022  "
      ]
     },
     "execution_count": 58,
     "metadata": {},
     "output_type": "execute_result"
    }
   ],
   "source": [
    "projects_df.iloc[1:3]"
   ]
  },
  {
   "cell_type": "code",
   "execution_count": 60,
   "id": "4218f280-75ec-44f0-bcb1-a8db2341b411",
   "metadata": {},
   "outputs": [
    {
     "name": "stdout",
     "output_type": "stream",
     "text": [
      "          Project  Technology  Capacity (MW)  Cost (Million $)    Location  \\\n",
      "1  Wind Turbine X        Wind            300               400       Texas   \n",
      "2    Hydropower Y  Hydropower            200               350  Washington   \n",
      "\n",
      "   Completion Year  \n",
      "1             2024  \n",
      "2             2022  \n"
     ]
    }
   ],
   "source": [
    "selected_rows = projects_df.iloc[[1, 2]]\n",
    "\n",
    "\n",
    "print(selected_rows)"
   ]
  },
  {
   "cell_type": "code",
   "execution_count": 62,
   "id": "d6e4ce24-b099-4377-92a0-7442f4ad1e61",
   "metadata": {},
   "outputs": [
    {
     "name": "stdout",
     "output_type": "stream",
     "text": [
      "<class 'pandas.core.frame.DataFrame'>\n",
      "RangeIndex: 5 entries, 0 to 4\n",
      "Data columns (total 6 columns):\n",
      " #   Column            Non-Null Count  Dtype \n",
      "---  ------            --------------  ----- \n",
      " 0   Project           5 non-null      object\n",
      " 1   Technology        5 non-null      object\n",
      " 2   Capacity (MW)     5 non-null      int64 \n",
      " 3   Cost (Million $)  5 non-null      int64 \n",
      " 4   Location          5 non-null      object\n",
      " 5   Completion Year   5 non-null      int64 \n",
      "dtypes: int64(3), object(3)\n",
      "memory usage: 372.0+ bytes\n"
     ]
    }
   ],
   "source": [
    "projects_df.info()"
   ]
  },
  {
   "cell_type": "code",
   "execution_count": 64,
   "id": "dc34326e-3c55-4816-82c6-abb591db50cf",
   "metadata": {},
   "outputs": [
    {
     "data": {
      "text/html": [
       "<div>\n",
       "<style scoped>\n",
       "    .dataframe tbody tr th:only-of-type {\n",
       "        vertical-align: middle;\n",
       "    }\n",
       "\n",
       "    .dataframe tbody tr th {\n",
       "        vertical-align: top;\n",
       "    }\n",
       "\n",
       "    .dataframe thead th {\n",
       "        text-align: right;\n",
       "    }\n",
       "</style>\n",
       "<table border=\"1\" class=\"dataframe\">\n",
       "  <thead>\n",
       "    <tr style=\"text-align: right;\">\n",
       "      <th></th>\n",
       "      <th>Capacity (MW)</th>\n",
       "      <th>Cost (Million $)</th>\n",
       "      <th>Completion Year</th>\n",
       "    </tr>\n",
       "  </thead>\n",
       "  <tbody>\n",
       "    <tr>\n",
       "      <th>count</th>\n",
       "      <td>5.00000</td>\n",
       "      <td>5.000000</td>\n",
       "      <td>5.000000</td>\n",
       "    </tr>\n",
       "    <tr>\n",
       "      <th>mean</th>\n",
       "      <td>160.00000</td>\n",
       "      <td>260.000000</td>\n",
       "      <td>2023.400000</td>\n",
       "    </tr>\n",
       "    <tr>\n",
       "      <th>std</th>\n",
       "      <td>96.17692</td>\n",
       "      <td>119.373364</td>\n",
       "      <td>1.140175</td>\n",
       "    </tr>\n",
       "    <tr>\n",
       "      <th>min</th>\n",
       "      <td>50.00000</td>\n",
       "      <td>100.000000</td>\n",
       "      <td>2022.000000</td>\n",
       "    </tr>\n",
       "    <tr>\n",
       "      <th>25%</th>\n",
       "      <td>100.00000</td>\n",
       "      <td>200.000000</td>\n",
       "      <td>2023.000000</td>\n",
       "    </tr>\n",
       "    <tr>\n",
       "      <th>50%</th>\n",
       "      <td>150.00000</td>\n",
       "      <td>250.000000</td>\n",
       "      <td>2023.000000</td>\n",
       "    </tr>\n",
       "    <tr>\n",
       "      <th>75%</th>\n",
       "      <td>200.00000</td>\n",
       "      <td>350.000000</td>\n",
       "      <td>2024.000000</td>\n",
       "    </tr>\n",
       "    <tr>\n",
       "      <th>max</th>\n",
       "      <td>300.00000</td>\n",
       "      <td>400.000000</td>\n",
       "      <td>2025.000000</td>\n",
       "    </tr>\n",
       "  </tbody>\n",
       "</table>\n",
       "</div>"
      ],
      "text/plain": [
       "       Capacity (MW)  Cost (Million $)  Completion Year\n",
       "count        5.00000          5.000000         5.000000\n",
       "mean       160.00000        260.000000      2023.400000\n",
       "std         96.17692        119.373364         1.140175\n",
       "min         50.00000        100.000000      2022.000000\n",
       "25%        100.00000        200.000000      2023.000000\n",
       "50%        150.00000        250.000000      2023.000000\n",
       "75%        200.00000        350.000000      2024.000000\n",
       "max        300.00000        400.000000      2025.000000"
      ]
     },
     "execution_count": 64,
     "metadata": {},
     "output_type": "execute_result"
    }
   ],
   "source": [
    "projects_df.describe()"
   ]
  },
  {
   "cell_type": "code",
   "execution_count": 72,
   "id": "3ce74c54-12a1-410a-85a0-0a49d9df1a51",
   "metadata": {},
   "outputs": [
    {
     "name": "stdout",
     "output_type": "stream",
     "text": [
      "          Project  Technology  Capacity (MW)  Cost (Million $)    Location  \\\n",
      "0    Solar Farm A       Solar            150               200  California   \n",
      "1  Wind Turbine X        Wind            300               400       Texas   \n",
      "2    Hydropower Y  Hydropower            200               350  Washington   \n",
      "\n",
      "   Completion Year  \n",
      "0             2023  \n",
      "1             2024  \n",
      "2             2022  \n"
     ]
    }
   ],
   "source": [
    "#filter out the project whose capacity is more than 100 MW\n",
    "filtered_df = df[df[\"Capacity (MW)\"] > 100] \n",
    "print(filtered_df)"
   ]
  },
  {
   "cell_type": "code",
   "execution_count": 82,
   "id": "464edcec-f633-44b2-a751-9325c2063b36",
   "metadata": {},
   "outputs": [
    {
     "name": "stdout",
     "output_type": "stream",
     "text": [
      "              Project  Technology  Capacity (MW)  Cost (Million $)  \\\n",
      "0        Solar Farm A       Solar            150               200   \n",
      "1      Wind Turbine X        Wind            300               400   \n",
      "2        Hydropower Y  Hydropower            200               350   \n",
      "3        Solar Roof Z       Solar             50               100   \n",
      "4  Geothermal Plant P  Geothermal            100               250   \n",
      "\n",
      "     Location  Completion Year  Cost per MW ($/MW)  \n",
      "0  California             2023            1.333333  \n",
      "1       Texas             2024            1.333333  \n",
      "2  Washington             2022            1.750000  \n",
      "3      Nevada             2025            2.000000  \n",
      "4       Idaho             2023            2.500000  \n"
     ]
    }
   ],
   "source": [
    "#add a new column to calculate the cost per megawatt for each project\n",
    "df[\"Cost per MW ($/MW)\"] = df[\"Cost (Million $)\"]  / df[\"Capacity (MW)\"] \n",
    "print(df)"
   ]
  },
  {
   "cell_type": "code",
   "execution_count": 90,
   "id": "d38397fd-8f3f-498f-9434-48b38619728a",
   "metadata": {},
   "outputs": [
    {
     "name": "stdout",
     "output_type": "stream",
     "text": [
      "Total Capacity (MW): 800\n",
      "Total Cost (Million $): 1300\n"
     ]
    }
   ],
   "source": [
    "\n",
    "df = pd.DataFrame(data)\n",
    "\n",
    "# Aggregate the data to find the total capacity and total cost\n",
    "total_capacity = df[\"Capacity (MW)\"].sum()\n",
    "total_cost = df[\"Cost (Million $)\"].sum()\n",
    "\n",
    "print(\"Total Capacity (MW):\", total_capacity)\n",
    "print(\"Total Cost (Million $):\", total_cost)\n"
   ]
  },
  {
   "cell_type": "code",
   "execution_count": 96,
   "id": "57337126-dc55-4bdd-a8d4-cde49c325395",
   "metadata": {},
   "outputs": [
    {
     "name": "stdout",
     "output_type": "stream",
     "text": [
      "   Technology  Capacity (MW)\n",
      "0  Geothermal            100\n",
      "1  Hydropower            200\n",
      "2       Solar            200\n",
      "3        Wind            300\n"
     ]
    }
   ],
   "source": [
    "# Group by technology and calculate total capacity for each type\n",
    "grouped_df = df.groupby(\"Technology\")[\"Capacity (MW)\"].sum().reset_index()\n",
    "print(grouped_df)\n"
   ]
  },
  {
   "cell_type": "code",
   "execution_count": 98,
   "id": "d15d395f-eb6b-47bb-b6a2-e30e5a65e8f4",
   "metadata": {},
   "outputs": [
    {
     "name": "stdout",
     "output_type": "stream",
     "text": [
      "Original DataFrame:\n",
      "              Project  Technology  Capacity (MW)  Cost (Million $)  \\\n",
      "0        Solar Farm A       Solar            150               200   \n",
      "1      Wind Turbine X        Wind            300               400   \n",
      "2        Hydropower Y  Hydropower            200               350   \n",
      "3        Solar Roof Z       Solar             50               100   \n",
      "4  Geothermal Plant P  Geothermal            100               250   \n",
      "\n",
      "     Location  Completion Year  \n",
      "0  California             2023  \n",
      "1       Texas             2024  \n",
      "2  Washington             2022  \n",
      "3      Nevada             2025  \n",
      "4       Idaho             2023  \n",
      "\n",
      "Grouped DataFrame (Total Capacity by Technology):\n",
      "   Technology  Capacity (MW)\n",
      "0  Geothermal            100\n",
      "1  Hydropower            200\n",
      "2       Solar            200\n",
      "3        Wind            300\n"
     ]
    }
   ],
   "source": [
    "# Group by technology and calculate total capacity for each type\n",
    "grouped_df = df.groupby(\"Technology\")[\"Capacity (MW)\"].sum().reset_index()\n",
    "\n",
    "# Print the whole DataFrame\n",
    "print(\"Original DataFrame:\")\n",
    "print(df)\n",
    "\n",
    "# Print the grouped DataFrame\n",
    "print(\"\\nGrouped DataFrame (Total Capacity by Technology):\")\n",
    "print(grouped_df)\n"
   ]
  },
  {
   "cell_type": "code",
   "execution_count": 100,
   "id": "ad237b37-b3f1-4f9f-98fd-3dedcb95adb5",
   "metadata": {},
   "outputs": [],
   "source": [
    "import numpy as np"
   ]
  },
  {
   "cell_type": "code",
   "execution_count": 104,
   "id": "c002bd6b-ca0a-4524-9fa4-0b6f52c70d54",
   "metadata": {},
   "outputs": [
    {
     "name": "stdout",
     "output_type": "stream",
     "text": [
      "[1 2 3]\n"
     ]
    }
   ],
   "source": [
    "# One-dimensional array\n",
    "one_d_array = np.array([1,2,3])\n",
    "print(one_d_array)"
   ]
  },
  {
   "cell_type": "code",
   "execution_count": 108,
   "id": "f38efb7b-c814-4bd2-8afd-84f5bb3b48cc",
   "metadata": {},
   "outputs": [
    {
     "name": "stdout",
     "output_type": "stream",
     "text": [
      "[[1 2]\n",
      " [3 4]]\n"
     ]
    }
   ],
   "source": [
    "# Two-dimensional array\n",
    "two_d_array = np.array([[1,2],[3,4]])\n",
    "print(two_d_array)"
   ]
  },
  {
   "cell_type": "code",
   "execution_count": 110,
   "id": "c8ba8570-7ee4-41da-ac86-f8c04e9435af",
   "metadata": {},
   "outputs": [
    {
     "name": "stdout",
     "output_type": "stream",
     "text": [
      "(2, 3)\n",
      "2\n",
      "6\n",
      "int32\n",
      "4\n"
     ]
    }
   ],
   "source": [
    "arr = np.array([[1, 2, 3], [4, 5, 6]])\n",
    "print(arr.shape) \n",
    "print(arr.ndim)\n",
    "print(arr.size)\n",
    "print(arr.dtype)\n",
    "print(arr.itemsize)"
   ]
  },
  {
   "cell_type": "code",
   "execution_count": 114,
   "id": "d6ffe85d-3845-472f-a395-34d89da05370",
   "metadata": {},
   "outputs": [
    {
     "name": "stdout",
     "output_type": "stream",
     "text": [
      "Array of ones:\n",
      " [[1. 1. 1.]\n",
      " [1. 1. 1.]]\n",
      "Array of zeros:\n",
      " [[0. 0. 0.]\n",
      " [0. 0. 0.]]\n",
      "Random array:\n",
      " [[0.74016581 0.91602212 0.49861924]\n",
      " [0.88385997 0.34270991 0.8795994 ]\n",
      " [0.98656891 0.97120727 0.3024892 ]]\n"
     ]
    }
   ],
   "source": [
    "ones_array = np.ones((2, 3))\n",
    "print(\"Array of ones:\\n\", ones_array)\n",
    "\n",
    "zeros_array = np.zeros((2, 3)) \n",
    "print(\"Array of zeros:\\n\", zeros_array)\n",
    "\n",
    "random_array = np.random.random((3, 3)) \n",
    "print(\"Random array:\\n\", random_array)"
   ]
  },
  {
   "cell_type": "code",
   "execution_count": 116,
   "id": "ff412caa-49aa-4a40-a14d-1780a747d61f",
   "metadata": {},
   "outputs": [
    {
     "name": "stdout",
     "output_type": "stream",
     "text": [
      "[[10 10 10]\n",
      " [10 10 10]\n",
      " [10 10 10]]\n"
     ]
    }
   ],
   "source": [
    "arr = np.full((3,3),10)\n",
    "print(arr)"
   ]
  },
  {
   "cell_type": "code",
   "execution_count": 120,
   "id": "651904c4-f359-4690-9e52-d9b5ca6089ad",
   "metadata": {},
   "outputs": [
    {
     "name": "stdout",
     "output_type": "stream",
     "text": [
      "[[1. 0. 0. 0. 0.]\n",
      " [0. 1. 0. 0. 0.]\n",
      " [0. 0. 1. 0. 0.]\n",
      " [0. 0. 0. 1. 0.]\n",
      " [0. 0. 0. 0. 1.]]\n"
     ]
    }
   ],
   "source": [
    "identity_arr = np.identity(5)\n",
    "print(identity_arr)"
   ]
  },
  {
   "cell_type": "code",
   "execution_count": 138,
   "id": "c34d97e6-3f0d-4c6e-8219-c2cb723a46a2",
   "metadata": {},
   "outputs": [
    {
     "name": "stdout",
     "output_type": "stream",
     "text": [
      "[0 2 4 6]\n"
     ]
    }
   ],
   "source": [
    "arr_with_arange = np.arange(0, 7, 2)\n",
    "print(arr_with_arange)\n"
   ]
  },
  {
   "cell_type": "code",
   "execution_count": 140,
   "id": "81862111-47c1-42a1-819d-1e222eed71e5",
   "metadata": {},
   "outputs": [
    {
     "name": "stdout",
     "output_type": "stream",
     "text": [
      "[0 2 4 6 8]\n"
     ]
    }
   ],
   "source": [
    "import numpy as np\n",
    "arr1 = np.arange(0, 10, 2)\n",
    "print(arr1)"
   ]
  },
  {
   "cell_type": "code",
   "execution_count": 144,
   "id": "2a139089-47f9-40e1-acb3-910114eb202e",
   "metadata": {},
   "outputs": [
    {
     "name": "stdout",
     "output_type": "stream",
     "text": [
      "[ 5.   7.5 10. ]\n"
     ]
    }
   ],
   "source": [
    "linespace_arr1 = np.linspace(5,10,3)\n",
    "print(linespace_arr1)"
   ]
  },
  {
   "cell_type": "code",
   "execution_count": 146,
   "id": "7ac87181-a781-49ff-8975-5a2d2d7ccb74",
   "metadata": {},
   "outputs": [
    {
     "name": "stdout",
     "output_type": "stream",
     "text": [
      "(array([2.2 , 2.36, 2.52, 2.68, 2.84, 3.  ]), 0.15999999999999998)\n"
     ]
    }
   ],
   "source": [
    "linespace_arr1 = np.linspace(2.2, 3.0, num=6, retstep = True)\n",
    "print(linespace_arr1)"
   ]
  },
  {
   "cell_type": "code",
   "execution_count": 152,
   "id": "f6fb77d5-d484-422f-bf02-f001a56e5de8",
   "metadata": {},
   "outputs": [
    {
     "name": "stdout",
     "output_type": "stream",
     "text": [
      "1\n",
      "2\n",
      "\n",
      "\n",
      "[1 2 3 4 6 3 9]\n",
      "\n",
      "\n",
      "[1 2 3 4 6 3 9]\n",
      "[1 3 6 9]\n",
      "[9 3 6 4 3 2 1]\n"
     ]
    }
   ],
   "source": [
    "arr = np.array([1,2,3,4,6,3,9])\n",
    "print(arr[0])\n",
    "print(arr[1])\n",
    "\n",
    "print('\\n')\n",
    "print(arr[:])\n",
    "\n",
    "print('\\n')\n",
    "print(arr[::1])\n",
    "print(arr[::2])\n",
    "print(arr[::-1])"
   ]
  },
  {
   "cell_type": "code",
   "execution_count": 166,
   "id": "aa02dc22-76f8-4191-9cdb-c941bd60b218",
   "metadata": {
    "scrolled": true
   },
   "outputs": [
    {
     "name": "stdout",
     "output_type": "stream",
     "text": [
      "IS Palindrome\n"
     ]
    }
   ],
   "source": [
    "def is_palindrome(arr):\n",
    "    if np.array_equal(arr, arr[::-1]):\n",
    "        print(\"IS Palindrome\")\n",
    "    else:\n",
    "        print(\"IS Not a Palindrome\")\n",
    "\n",
    "arr1 = np.array([1, 2, 3, 2, 1])\n",
    "is_palindrome(arr1)\n"
   ]
  },
  {
   "cell_type": "code",
   "execution_count": 170,
   "id": "4f2db50c-0ab8-40a0-9562-1333907410c4",
   "metadata": {},
   "outputs": [
    {
     "name": "stdout",
     "output_type": "stream",
     "text": [
      "[[1]\n",
      " [2]\n",
      " [3]\n",
      " [4]\n",
      " [6]\n",
      " [3]\n",
      " [9]]\n",
      "[[1 2 3 4 6 3 9]]\n"
     ]
    }
   ],
   "source": [
    "arr = np.array([1, 2, 3, 4, 6, 3, 9])\n",
    "\n",
    "# Reshape into a valid shape, such as (7, 1) or (1, 7)\n",
    "print(arr.reshape(7, 1))\n",
    "print(arr.reshape(1, 7))\n"
   ]
  },
  {
   "cell_type": "code",
   "execution_count": 184,
   "id": "5796f393-4a27-4ad6-914d-607f2fd0208c",
   "metadata": {},
   "outputs": [
    {
     "name": "stdout",
     "output_type": "stream",
     "text": [
      "Original array:\n",
      " [[1 2]\n",
      " [4 5]\n",
      " [7 8]]\n",
      "\n",
      "Reshaped array (2, 3):\n",
      " [[1 2 4]\n",
      " [5 7 8]]\n",
      "\n",
      "Reshaped array (3, 1):\n",
      " [[1 2]\n",
      " [4 5]\n",
      " [7 8]]\n"
     ]
    }
   ],
   "source": [
    "# Create a 2D array\n",
    "arr = np.array([[1, 2], [4, 5], [7, 8]])\n",
    "\n",
    "# Reshape the array into a different shape\n",
    "reshaped_arr1 = arr.reshape(2, 3)\n",
    "reshaped_arr2 = arr.reshape(3, 2)\n",
    "\n",
    "print(\"Original array:\\n\", arr)\n",
    "print(\"\\nReshaped array (2, 3):\\n\", reshaped_arr1)\n",
    "print(\"\\nReshaped array (3, 1):\\n\", reshaped_arr2)\n"
   ]
  },
  {
   "cell_type": "code",
   "execution_count": 186,
   "id": "162028a3-6d4f-4792-82b5-1c16f8f21026",
   "metadata": {},
   "outputs": [
    {
     "name": "stdout",
     "output_type": "stream",
     "text": [
      "Original matrix:\n",
      " [[1 2 3]\n",
      " [4 5 6]\n",
      " [7 8 9]]\n",
      "\n",
      "Transpose matrix:\n",
      " [[1 4 7]\n",
      " [2 5 8]\n",
      " [3 6 9]]\n"
     ]
    }
   ],
   "source": [
    "# Create a 2D array (matrix)\n",
    "matrix = np.array([[1, 2, 3], [4, 5, 6], [7, 8, 9]])\n",
    "\n",
    "# Transpose the matrix\n",
    "transpose_matrix = matrix.T\n",
    "print(\"Original matrix:\\n\", matrix)\n",
    "print(\"\\nTranspose matrix:\\n\", transpose_matrix)\n"
   ]
  },
  {
   "cell_type": "code",
   "execution_count": 190,
   "id": "f644486d-36e3-4a5b-ab6f-091dc072af4d",
   "metadata": {},
   "outputs": [
    {
     "name": "stdout",
     "output_type": "stream",
     "text": [
      "[1 2 3 4 5 6 7 8 9]\n"
     ]
    }
   ],
   "source": [
    "arr = np.array([[1, 2,3], [4, 5,6], [7, 8,9]])\n",
    "print(arr.flatten())"
   ]
  },
  {
   "cell_type": "code",
   "execution_count": 194,
   "id": "62ce8b70-a960-4ddf-8cce-75e3450505b5",
   "metadata": {},
   "outputs": [
    {
     "name": "stdout",
     "output_type": "stream",
     "text": [
      "Flattened in C order: [1 2 3 4 5 6]\n",
      "Flattened in F order: [1 4 2 5 3 6]\n"
     ]
    }
   ],
   "source": [
    "arr = np.array([[1, 2, 3], [4, 5, 6]])\n",
    "\n",
    "# Flatten the array in C order (row-major)\n",
    "flattened_C = arr.flatten('C')\n",
    "print(\"Flattened in C order:\", flattened_C)\n",
    "\n",
    "# Flatten the array in F order (column-major)\n",
    "flattened_F = arr.flatten(order='F')\n",
    "print(\"Flattened in F order:\", flattened_F)\n"
   ]
  },
  {
   "cell_type": "code",
   "execution_count": 196,
   "id": "ceb269ef-b6b1-4b78-950a-7defe30315fc",
   "metadata": {},
   "outputs": [
    {
     "name": "stdout",
     "output_type": "stream",
     "text": [
      "Mean: 5.0\n",
      "Median: 5.0\n",
      "Standard Deviation: 2.581988897471611\n",
      "Variance: 6.666666666666667\n"
     ]
    }
   ],
   "source": [
    "# Create an array\n",
    "arr = np.array([1, 2, 3, 4, 5, 6, 7, 8, 9])\n",
    "\n",
    "# Calculate the mean\n",
    "mean = np.mean(arr)\n",
    "print(\"Mean:\", mean)\n",
    "\n",
    "# Calculate the median\n",
    "median = np.median(arr)\n",
    "print(\"Median:\", median)\n",
    "\n",
    "# Calculate the standard deviation\n",
    "std_dev = np.std(arr)\n",
    "print(\"Standard Deviation:\", std_dev)\n",
    "\n",
    "# Calculate the variance\n",
    "variance = np.var(arr)\n",
    "print(\"Variance:\", variance)\n"
   ]
  },
  {
   "cell_type": "code",
   "execution_count": 198,
   "id": "5726abbc-64bf-4536-af4c-0624d3ef45a4",
   "metadata": {},
   "outputs": [
    {
     "name": "stdout",
     "output_type": "stream",
     "text": [
      "Mean energy consumption (kWh): 2360.0\n",
      "Median energy consumption (kWh): 2500.0\n",
      "Standard deviation of energy consumption (kWh): 781.2809993849844\n",
      "Variance of energy consumption (kWh): 610400.0\n"
     ]
    }
   ],
   "source": [
    "# Create an array for energy consumption (in kWh)\n",
    "energy_consumption = np.array([1200, 3400, 2900, 1800, 2500])\n",
    "\n",
    "# Calculate the mean\n",
    "mean_consumption = np.mean(energy_consumption)\n",
    "print(\"Mean energy consumption (kWh):\", mean_consumption)\n",
    "\n",
    "# Calculate the median\n",
    "median_consumption = np.median(energy_consumption)\n",
    "print(\"Median energy consumption (kWh):\", median_consumption)\n",
    "\n",
    "# Calculate the standard deviation\n",
    "std_dev_consumption = np.std(energy_consumption)\n",
    "print(\"Standard deviation of energy consumption (kWh):\", std_dev_consumption)\n",
    "\n",
    "# Calculate the variance\n",
    "variance_consumption = np.var(energy_consumption)\n",
    "print(\"Variance of energy consumption (kWh):\", variance_consumption)\n"
   ]
  },
  {
   "cell_type": "code",
   "execution_count": 206,
   "id": "cc85629e-dfbd-4e49-84d8-c7d55fd5bb52",
   "metadata": {},
   "outputs": [
    {
     "name": "stdout",
     "output_type": "stream",
     "text": [
      "[[1200]\n",
      " [3400]\n",
      " [2900]\n",
      " [1800]\n",
      " [2500]]\n"
     ]
    }
   ],
   "source": [
    "print(energy_consumption.reshape(5,1))"
   ]
  },
  {
   "cell_type": "code",
   "execution_count": null,
   "id": "7b624ad2-0e8a-4ee9-8965-935f1237d0da",
   "metadata": {},
   "outputs": [],
   "source": []
  }
 ],
 "metadata": {
  "kernelspec": {
   "display_name": "Python 3 (ipykernel)",
   "language": "python",
   "name": "python3"
  },
  "language_info": {
   "codemirror_mode": {
    "name": "ipython",
    "version": 3
   },
   "file_extension": ".py",
   "mimetype": "text/x-python",
   "name": "python",
   "nbconvert_exporter": "python",
   "pygments_lexer": "ipython3",
   "version": "3.12.4"
  }
 },
 "nbformat": 4,
 "nbformat_minor": 5
}
